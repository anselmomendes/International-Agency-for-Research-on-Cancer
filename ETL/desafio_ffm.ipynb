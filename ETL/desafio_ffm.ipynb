{
 "cells": [
  {
   "cell_type": "code",
   "execution_count": null,
   "metadata": {},
   "outputs": [],
   "source": [
    "import pandas as pd\n",
    "import json\n",
    "import streamlit as st\n",
    "import wget\n",
    "import sqlite3"
   ]
  },
  {
   "cell_type": "markdown",
   "metadata": {},
   "source": [
    "### captura dos dados"
   ]
  },
  {
   "cell_type": "code",
   "execution_count": null,
   "metadata": {},
   "outputs": [],
   "source": [
    "countries = pd.read_json('https://gco.iarc.fr/causes/obesity/data/countries.json')\n",
    "cancers = pd.read_json('https://gco.iarc.fr/causes/obesity/data/cancers.json')"
   ]
  },
  {
   "cell_type": "code",
   "execution_count": null,
   "metadata": {},
   "outputs": [],
   "source": [
    "attributable = wget.download('https://gco.iarc.fr/causes/obesity/data/attributable.json', out='../data/attributable.json')\n",
    "preventable = wget.download('https://gco.iarc.fr/causes/obesity/data/preventable.json', out='../data/preventable.json')"
   ]
  },
  {
   "cell_type": "code",
   "execution_count": null,
   "metadata": {},
   "outputs": [],
   "source": [
    "with open('../data/attributable.json') as json_data:\n",
    "    data = json.load(json_data)\n",
    "    attributable = pd.json_normalize(data['both'])"
   ]
  },
  {
   "cell_type": "code",
   "execution_count": null,
   "metadata": {},
   "outputs": [],
   "source": [
    "with open('../data/preventable.json') as json_data:\n",
    "    data = json.load(json_data)\n",
    "    preventable = pd.json_normalize(data['both'])"
   ]
  },
  {
   "cell_type": "code",
   "execution_count": null,
   "metadata": {},
   "outputs": [],
   "source": [
    "attributable = attributable[['total_m', 'total_f', 'country.name', 'country.WHO_NAME', 'cancer.name']]\n",
    "attributable = attributable.rename(columns={\"country.name\":\"country\", \"country.WHO_NAME\":\"continent\", \"cancer.name\":\"cancer\"})\n",
    "attributable['continent'] = attributable['continent'].apply(lambda x: x.replace(\"WHO \",\"\"))"
   ]
  },
  {
   "cell_type": "code",
   "execution_count": null,
   "metadata": {},
   "outputs": [],
   "source": [
    "preventable = preventable[['total_m', 'total_f', 'country.name', 'country.WHO_NAME', 'cancer.name']]\n",
    "preventable = preventable.rename(columns={\"country.name\":\"country\", \"country.WHO_NAME\":\"continent\", \"cancer.name\":\"cancer\"})\n",
    "preventable['continent'] = preventable['continent'].apply(lambda x: x.replace(\"WHO \",\"\"))"
   ]
  },
  {
   "cell_type": "code",
   "execution_count": null,
   "metadata": {},
   "outputs": [],
   "source": [
    "preventable.head()"
   ]
  },
  {
   "cell_type": "code",
   "execution_count": null,
   "metadata": {},
   "outputs": [],
   "source": [
    "attributable.head()"
   ]
  },
  {
   "cell_type": "code",
   "execution_count": null,
   "metadata": {},
   "outputs": [],
   "source": [
    "con = sqlite3.connect(\"../data/tutorial.db\")"
   ]
  },
  {
   "cell_type": "code",
   "execution_count": null,
   "metadata": {},
   "outputs": [],
   "source": [
    "attributable.to_sql('attributable', con=con, if_exists='replace')\n",
    "preventable.to_sql('preventable', con=con, if_exists='replace')"
   ]
  }
 ],
 "metadata": {
  "kernelspec": {
   "display_name": "Python 3",
   "language": "python",
   "name": "python3"
  },
  "language_info": {
   "codemirror_mode": {
    "name": "ipython",
    "version": 3
   },
   "file_extension": ".py",
   "mimetype": "text/x-python",
   "name": "python",
   "nbconvert_exporter": "python",
   "pygments_lexer": "ipython3",
   "version": "3.9.0"
  }
 },
 "nbformat": 4,
 "nbformat_minor": 2
}
