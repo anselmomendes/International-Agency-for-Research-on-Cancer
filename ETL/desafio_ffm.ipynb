{
 "cells": [
  {
   "cell_type": "code",
   "execution_count": 5,
   "metadata": {},
   "outputs": [],
   "source": [
    "import pandas as pd\n",
    "import json\n",
    "import streamlit as st\n",
    "import wget\n",
    "import sqlite3"
   ]
  },
  {
   "cell_type": "markdown",
   "metadata": {},
   "source": [
    "### captura dos dados"
   ]
  },
  {
   "cell_type": "code",
   "execution_count": 44,
   "metadata": {},
   "outputs": [],
   "source": [
    "countries = pd.read_json('https://gco.iarc.fr/causes/obesity/data/countries.json')\n",
    "cancers = pd.read_json('https://gco.iarc.fr/causes/obesity/data/cancers.json')"
   ]
  },
  {
   "cell_type": "code",
   "execution_count": 45,
   "metadata": {},
   "outputs": [],
   "source": [
    "#attributable = wget.download('https://gco.iarc.fr/causes/obesity/data/attributable.json', out='../data/attributable.json')\n",
    "#preventable = wget.download('https://gco.iarc.fr/causes/obesity/data/preventable.json', out='../data/preventable.json')"
   ]
  },
  {
   "cell_type": "code",
   "execution_count": 6,
   "metadata": {},
   "outputs": [],
   "source": [
    "with open('../data/attributable.json') as json_data:\n",
    "    data = json.load(json_data)\n",
    "    attributable = pd.json_normalize(data['both'])"
   ]
  },
  {
   "cell_type": "code",
   "execution_count": 7,
   "metadata": {},
   "outputs": [],
   "source": [
    "with open('../data/preventable.json') as json_data:\n",
    "    data = json.load(json_data)\n",
    "    preventable = pd.json_normalize(data['both'])"
   ]
  },
  {
   "cell_type": "code",
   "execution_count": 8,
   "metadata": {},
   "outputs": [],
   "source": [
    "attributable = attributable[['total_m', 'total_f', 'country.name', 'country.WHO_NAME', 'cancer.name', 'paf_obs_m', 'paf_obs_f', 'paf_obs_both']]\n",
    "attributable = attributable.rename(columns={\"country.name\":\"country\", \"country.WHO_NAME\":\"continent\", \"cancer.name\":\"cancer\"})\n",
    "attributable['continent'] = attributable['continent'].apply(lambda x: x.replace(\"WHO \",\"\"))"
   ]
  },
  {
   "cell_type": "code",
   "execution_count": 50,
   "metadata": {},
   "outputs": [],
   "source": [
    "preventable = preventable[['total_m', 'total_f', 'country.name', 'country.WHO_NAME', 'cancer.name', 'paf_obs_m', 'paf_obs_f', 'paf_obs_both']]\n",
    "preventable = preventable.rename(columns={\"country.name\":\"country\", \"country.WHO_NAME\":\"continent\", \"cancer.name\":\"cancer\"})\n",
    "preventable['continent'] = preventable['continent'].apply(lambda x: x.replace(\"WHO \",\"\"))"
   ]
  },
  {
   "cell_type": "code",
   "execution_count": 35,
   "metadata": {},
   "outputs": [],
   "source": [
    "con = sqlite3.connect(\"../data/tutorial.db\")\n",
    "join = pd.read_sql('select a.country from attributable a left join preventable p on a.country = p.country', con=con)"
   ]
  },
  {
   "cell_type": "code",
   "execution_count": 49,
   "metadata": {},
   "outputs": [
    {
     "data": {
      "text/html": [
       "<div>\n",
       "<style scoped>\n",
       "    .dataframe tbody tr th:only-of-type {\n",
       "        vertical-align: middle;\n",
       "    }\n",
       "\n",
       "    .dataframe tbody tr th {\n",
       "        vertical-align: top;\n",
       "    }\n",
       "\n",
       "    .dataframe thead th {\n",
       "        text-align: right;\n",
       "    }\n",
       "</style>\n",
       "<table border=\"1\" class=\"dataframe\">\n",
       "  <thead>\n",
       "    <tr style=\"text-align: right;\">\n",
       "      <th></th>\n",
       "      <th>total_m</th>\n",
       "      <th>total_f</th>\n",
       "      <th>country</th>\n",
       "      <th>continent</th>\n",
       "      <th>cancer</th>\n",
       "      <th>paf_obs_m</th>\n",
       "      <th>paf_obs_f</th>\n",
       "      <th>paf_obs_both</th>\n",
       "    </tr>\n",
       "  </thead>\n",
       "  <tbody>\n",
       "    <tr>\n",
       "      <th>0</th>\n",
       "      <td>3464</td>\n",
       "      <td>5653</td>\n",
       "      <td>Angola</td>\n",
       "      <td>Africa region</td>\n",
       "      <td>Oesophageal adenocarcinoma</td>\n",
       "      <td>0.101688</td>\n",
       "      <td>0.184468</td>\n",
       "      <td>0.131454</td>\n",
       "    </tr>\n",
       "    <tr>\n",
       "      <th>1</th>\n",
       "      <td>3464</td>\n",
       "      <td>5653</td>\n",
       "      <td>Angola</td>\n",
       "      <td>Africa region</td>\n",
       "      <td>Pancreas</td>\n",
       "      <td>0.023512</td>\n",
       "      <td>0.033597</td>\n",
       "      <td>0.027949</td>\n",
       "    </tr>\n",
       "    <tr>\n",
       "      <th>2</th>\n",
       "      <td>3464</td>\n",
       "      <td>5653</td>\n",
       "      <td>Angola</td>\n",
       "      <td>Africa region</td>\n",
       "      <td>Kidney</td>\n",
       "      <td>0.042687</td>\n",
       "      <td>0.107470</td>\n",
       "      <td>0.077496</td>\n",
       "    </tr>\n",
       "    <tr>\n",
       "      <th>3</th>\n",
       "      <td>3464</td>\n",
       "      <td>5653</td>\n",
       "      <td>Angola</td>\n",
       "      <td>Africa region</td>\n",
       "      <td>Colon</td>\n",
       "      <td>0.035932</td>\n",
       "      <td>0.031838</td>\n",
       "      <td>0.033761</td>\n",
       "    </tr>\n",
       "    <tr>\n",
       "      <th>4</th>\n",
       "      <td>3464</td>\n",
       "      <td>5653</td>\n",
       "      <td>Angola</td>\n",
       "      <td>Africa region</td>\n",
       "      <td>Rectum</td>\n",
       "      <td>0.017498</td>\n",
       "      <td>0.015740</td>\n",
       "      <td>0.016561</td>\n",
       "    </tr>\n",
       "  </tbody>\n",
       "</table>\n",
       "</div>"
      ],
      "text/plain": [
       "   total_m  total_f country      continent                      cancer  \\\n",
       "0     3464     5653  Angola  Africa region  Oesophageal adenocarcinoma   \n",
       "1     3464     5653  Angola  Africa region                    Pancreas   \n",
       "2     3464     5653  Angola  Africa region                      Kidney   \n",
       "3     3464     5653  Angola  Africa region                       Colon   \n",
       "4     3464     5653  Angola  Africa region                      Rectum   \n",
       "\n",
       "   paf_obs_m  paf_obs_f  paf_obs_both  \n",
       "0   0.101688   0.184468      0.131454  \n",
       "1   0.023512   0.033597      0.027949  \n",
       "2   0.042687   0.107470      0.077496  \n",
       "3   0.035932   0.031838      0.033761  \n",
       "4   0.017498   0.015740      0.016561  "
      ]
     },
     "execution_count": 49,
     "metadata": {},
     "output_type": "execute_result"
    }
   ],
   "source": [
    "attributable.head()"
   ]
  },
  {
   "cell_type": "code",
   "execution_count": 53,
   "metadata": {},
   "outputs": [],
   "source": [
    "con = sqlite3.connect(\"../data/tutorial.db\")"
   ]
  },
  {
   "cell_type": "code",
   "execution_count": 54,
   "metadata": {},
   "outputs": [
    {
     "data": {
      "text/plain": [
       "1584"
      ]
     },
     "execution_count": 54,
     "metadata": {},
     "output_type": "execute_result"
    }
   ],
   "source": [
    "attributable.to_sql('attributable', con=con, if_exists='replace')\n",
    "preventable.to_sql('preventable', con=con, if_exists='replace')"
   ]
  }
 ],
 "metadata": {
  "kernelspec": {
   "display_name": "Python 3",
   "language": "python",
   "name": "python3"
  },
  "language_info": {
   "codemirror_mode": {
    "name": "ipython",
    "version": 3
   },
   "file_extension": ".py",
   "mimetype": "text/x-python",
   "name": "python",
   "nbconvert_exporter": "python",
   "pygments_lexer": "ipython3",
   "version": "3.9.0"
  }
 },
 "nbformat": 4,
 "nbformat_minor": 2
}
